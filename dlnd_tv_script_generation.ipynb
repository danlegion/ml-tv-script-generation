{
 "cells": [
  {
   "cell_type": "markdown",
   "metadata": {},
   "source": [
    "# TV Script Generation\n",
    "In this project, you'll generate your own [Simpsons](https://en.wikipedia.org/wiki/The_Simpsons) TV scripts using RNNs.  You'll be using part of the [Simpsons dataset](https://www.kaggle.com/wcukierski/the-simpsons-by-the-data) of scripts from 27 seasons.  The Neural Network you'll build will generate a new TV script for a scene at [Moe's Tavern](https://simpsonswiki.com/wiki/Moe's_Tavern).\n",
    "## Get the Data\n",
    "The data is already provided for you.  You'll be using a subset of the original dataset.  It consists of only the scenes in Moe's Tavern.  This doesn't include other versions of the tavern, like \"Moe's Cavern\", \"Flaming Moe's\", \"Uncle Moe's Family Feed-Bag\", etc.."
   ]
  },
  {
   "cell_type": "code",
   "execution_count": 1,
   "metadata": {
    "collapsed": true
   },
   "outputs": [],
   "source": [
    "\"\"\"\n",
    "DON'T MODIFY ANYTHING IN THIS CELL\n",
    "\"\"\"\n",
    "import helper\n",
    "\n",
    "data_dir = './data/simpsons/moes_tavern_lines.txt'\n",
    "text = helper.load_data(data_dir)\n",
    "# Ignore notice, since we don't use it for analysing the data\n",
    "text = text[81:]"
   ]
  },
  {
   "cell_type": "markdown",
   "metadata": {},
   "source": [
    "## Explore the Data\n",
    "Play around with `view_sentence_range` to view different parts of the data."
   ]
  },
  {
   "cell_type": "code",
   "execution_count": 2,
   "metadata": {},
   "outputs": [
    {
     "name": "stdout",
     "output_type": "stream",
     "text": [
      "Dataset Stats\n",
      "Roughly the number of unique words: 11492\n",
      "Number of scenes: 262\n",
      "Average number of sentences in each scene: 15.248091603053435\n",
      "Number of lines: 4257\n",
      "Average number of words in each line: 11.50434578341555\n",
      "\n",
      "The sentences 0 to 10:\n",
      "Moe_Szyslak: (INTO PHONE) Moe's Tavern. Where the elite meet to drink.\n",
      "Bart_Simpson: Eh, yeah, hello, is Mike there? Last name, Rotch.\n",
      "Moe_Szyslak: (INTO PHONE) Hold on, I'll check. (TO BARFLIES) Mike Rotch. Mike Rotch. Hey, has anybody seen Mike Rotch, lately?\n",
      "Moe_Szyslak: (INTO PHONE) Listen you little puke. One of these days I'm gonna catch you, and I'm gonna carve my name on your back with an ice pick.\n",
      "Moe_Szyslak: What's the matter Homer? You're not your normal effervescent self.\n",
      "Homer_Simpson: I got my problems, Moe. Give me another one.\n",
      "Moe_Szyslak: Homer, hey, you should not drink to forget your problems.\n",
      "Barney_Gumble: Yeah, you should only drink to enhance your social skills.\n",
      "\n",
      "\n"
     ]
    }
   ],
   "source": [
    "view_sentence_range = (0, 10)\n",
    "\n",
    "\"\"\"\n",
    "DON'T MODIFY ANYTHING IN THIS CELL\n",
    "\"\"\"\n",
    "import numpy as np\n",
    "\n",
    "print('Dataset Stats')\n",
    "print('Roughly the number of unique words: {}'.format(len({word: None for word in text.split()})))\n",
    "scenes = text.split('\\n\\n')\n",
    "print('Number of scenes: {}'.format(len(scenes)))\n",
    "sentence_count_scene = [scene.count('\\n') for scene in scenes]\n",
    "print('Average number of sentences in each scene: {}'.format(np.average(sentence_count_scene)))\n",
    "\n",
    "sentences = [sentence for scene in scenes for sentence in scene.split('\\n')]\n",
    "print('Number of lines: {}'.format(len(sentences)))\n",
    "word_count_sentence = [len(sentence.split()) for sentence in sentences]\n",
    "print('Average number of words in each line: {}'.format(np.average(word_count_sentence)))\n",
    "\n",
    "print()\n",
    "print('The sentences {} to {}:'.format(*view_sentence_range))\n",
    "print('\\n'.join(text.split('\\n')[view_sentence_range[0]:view_sentence_range[1]]))"
   ]
  },
  {
   "cell_type": "markdown",
   "metadata": {},
   "source": [
    "## Implement Preprocessing Functions\n",
    "The first thing to do to any dataset is preprocessing.  Implement the following preprocessing functions below:\n",
    "- Lookup Table\n",
    "- Tokenize Punctuation\n",
    "\n",
    "### Lookup Table\n",
    "To create a word embedding, you first need to transform the words to ids.  In this function, create two dictionaries:\n",
    "- Dictionary to go from the words to an id, we'll call `vocab_to_int`\n",
    "- Dictionary to go from the id to word, we'll call `int_to_vocab`\n",
    "\n",
    "Return these dictionaries in the following tuple `(vocab_to_int, int_to_vocab)`"
   ]
  },
  {
   "cell_type": "code",
   "execution_count": 3,
   "metadata": {},
   "outputs": [
    {
     "name": "stdout",
     "output_type": "stream",
     "text": [
      "Tests Passed\n"
     ]
    }
   ],
   "source": [
    "import numpy as np\n",
    "import problem_unittests as tests\n",
    "import collections\n",
    "\n",
    "# a = collections.Counter(['a','a','b','c','a'])\n",
    "# print(a.keys())\n",
    "\n",
    "def create_lookup_tables(text):\n",
    "    \"\"\"\n",
    "    Create lookup tables for vocabulary\n",
    "    :param text: The text of tv scripts split into words\n",
    "    :return: A tuple of dicts (vocab_to_int, int_to_vocab)\n",
    "    \"\"\"\n",
    "    vocab_to_int = {word: i for i, word in enumerate(set(text))}\n",
    "    int_to_vocab = {vocab_to_int[word]: word for word in vocab_to_int.keys()}\n",
    "    return vocab_to_int, int_to_vocab\n",
    "\n",
    "\n",
    "\"\"\"\n",
    "DON'T MODIFY ANYTHING IN THIS CELL THAT IS BELOW THIS LINE\n",
    "\"\"\"\n",
    "tests.test_create_lookup_tables(create_lookup_tables)"
   ]
  },
  {
   "cell_type": "markdown",
   "metadata": {},
   "source": [
    "### Tokenize Punctuation\n",
    "We'll be splitting the script into a word array using spaces as delimiters.  However, punctuations like periods and exclamation marks make it hard for the neural network to distinguish between the word \"bye\" and \"bye!\".\n",
    "\n",
    "Implement the function `token_lookup` to return a dict that will be used to tokenize symbols like \"!\" into \"||Exclamation_Mark||\".  Create a dictionary for the following symbols where the symbol is the key and value is the token:\n",
    "- Period ( . )\n",
    "- Comma ( , )\n",
    "- Quotation Mark ( \" )\n",
    "- Semicolon ( ; )\n",
    "- Exclamation mark ( ! )\n",
    "- Question mark ( ? )\n",
    "- Left Parentheses ( ( )\n",
    "- Right Parentheses ( ) )\n",
    "- Dash ( -- )\n",
    "- Return ( \\n )\n",
    "\n",
    "This dictionary will be used to token the symbols and add the delimiter (space) around it.  This separates the symbols as it's own word, making it easier for the neural network to predict on the next word. Make sure you don't use a token that could be confused as a word. Instead of using the token \"dash\", try using something like \"||dash||\"."
   ]
  },
  {
   "cell_type": "code",
   "execution_count": 4,
   "metadata": {},
   "outputs": [
    {
     "name": "stdout",
     "output_type": "stream",
     "text": [
      "Tests Passed\n"
     ]
    }
   ],
   "source": [
    "def token_lookup():\n",
    "    \"\"\"\n",
    "    Generate a dict to turn punctuation into a token.\n",
    "    :return: Tokenize dictionary where the key is the punctuation and the value is the token\n",
    "    \"\"\"\n",
    "    return {'.':'||period||', ',': '||comma||', '\"':'||quote||',\n",
    "            ';':'||semicolon||', '!':'||exclamation||', '?':'||question||',\n",
    "            '(':'||l-parentheses||', ')':'||r-parenthesis||', '--':'||dash||',\n",
    "           '\\n':'||return||'}\n",
    "\n",
    "\"\"\"\n",
    "DON'T MODIFY ANYTHING IN THIS CELL THAT IS BELOW THIS LINE\n",
    "\"\"\"\n",
    "tests.test_tokenize(token_lookup)"
   ]
  },
  {
   "cell_type": "markdown",
   "metadata": {},
   "source": [
    "## Preprocess all the data and save it\n",
    "Running the code cell below will preprocess all the data and save it to file."
   ]
  },
  {
   "cell_type": "code",
   "execution_count": 5,
   "metadata": {},
   "outputs": [],
   "source": [
    "\"\"\"\n",
    "DON'T MODIFY ANYTHING IN THIS CELL\n",
    "\"\"\"\n",
    "# Preprocess Training, Validation, and Testing Data\n",
    "helper.preprocess_and_save_data(data_dir, token_lookup, create_lookup_tables)"
   ]
  },
  {
   "cell_type": "markdown",
   "metadata": {},
   "source": [
    "# Check Point\n",
    "This is your first checkpoint. If you ever decide to come back to this notebook or have to restart the notebook, you can start from here. The preprocessed data has been saved to disk."
   ]
  },
  {
   "cell_type": "code",
   "execution_count": 6,
   "metadata": {
    "collapsed": true
   },
   "outputs": [],
   "source": [
    "\"\"\"\n",
    "DON'T MODIFY ANYTHING IN THIS CELL\n",
    "\"\"\"\n",
    "import helper\n",
    "import numpy as np\n",
    "import problem_unittests as tests\n",
    "\n",
    "int_text, vocab_to_int, int_to_vocab, token_dict = helper.load_preprocess()"
   ]
  },
  {
   "cell_type": "markdown",
   "metadata": {},
   "source": [
    "## Build the Neural Network\n",
    "You'll build the components necessary to build a RNN by implementing the following functions below:\n",
    "- get_inputs\n",
    "- get_init_cell\n",
    "- get_embed\n",
    "- build_rnn\n",
    "- build_nn\n",
    "- get_batches\n",
    "\n",
    "### Check the Version of TensorFlow and Access to GPU"
   ]
  },
  {
   "cell_type": "code",
   "execution_count": 7,
   "metadata": {},
   "outputs": [
    {
     "name": "stdout",
     "output_type": "stream",
     "text": [
      "TensorFlow Version: 1.1.0\n",
      "Default GPU Device: /gpu:0\n"
     ]
    }
   ],
   "source": [
    "\"\"\"\n",
    "DON'T MODIFY ANYTHING IN THIS CELL\n",
    "\"\"\"\n",
    "from distutils.version import LooseVersion\n",
    "import warnings\n",
    "import tensorflow as tf\n",
    "\n",
    "# Check TensorFlow Version\n",
    "assert LooseVersion(tf.__version__) >= LooseVersion('1.0'), 'Please use TensorFlow version 1.0 or newer'\n",
    "print('TensorFlow Version: {}'.format(tf.__version__))\n",
    "\n",
    "# Check for a GPU\n",
    "if not tf.test.gpu_device_name():\n",
    "    warnings.warn('No GPU found. Please use a GPU to train your neural network.')\n",
    "else:\n",
    "    print('Default GPU Device: {}'.format(tf.test.gpu_device_name()))"
   ]
  },
  {
   "cell_type": "markdown",
   "metadata": {},
   "source": [
    "### Input\n",
    "Implement the `get_inputs()` function to create TF Placeholders for the Neural Network.  It should create the following placeholders:\n",
    "- Input text placeholder named \"input\" using the [TF Placeholder](https://www.tensorflow.org/api_docs/python/tf/placeholder) `name` parameter.\n",
    "- Targets placeholder\n",
    "- Learning Rate placeholder\n",
    "\n",
    "Return the placeholders in the following tuple `(Input, Targets, LearningRate)`"
   ]
  },
  {
   "cell_type": "code",
   "execution_count": 8,
   "metadata": {},
   "outputs": [
    {
     "name": "stdout",
     "output_type": "stream",
     "text": [
      "Tests Passed\n"
     ]
    }
   ],
   "source": [
    "def get_inputs():\n",
    "    \"\"\"\n",
    "    Create TF Placeholders for input, targets, and learning rate.\n",
    "    :return: Tuple (input, targets, learning rate)\n",
    "    \"\"\"\n",
    "    inputs = tf.placeholder(tf.int32, [None, None], name='input')\n",
    "    targets = tf.placeholder(tf.int32, [None, None], name='targets')\n",
    "    learning_rate = tf.placeholder(tf.float32, name='learning_rate')\n",
    "    return inputs, targets, learning_rate\n",
    "\n",
    "\n",
    "\"\"\"\n",
    "DON'T MODIFY ANYTHING IN THIS CELL THAT IS BELOW THIS LINE\n",
    "\"\"\"\n",
    "tests.test_get_inputs(get_inputs)"
   ]
  },
  {
   "cell_type": "markdown",
   "metadata": {},
   "source": [
    "### Build RNN Cell and Initialize\n",
    "Stack one or more [`BasicLSTMCells`](https://www.tensorflow.org/api_docs/python/tf/contrib/rnn/BasicLSTMCell) in a [`MultiRNNCell`](https://www.tensorflow.org/api_docs/python/tf/contrib/rnn/MultiRNNCell).\n",
    "- The Rnn size should be set using `rnn_size`\n",
    "- Initalize Cell State using the MultiRNNCell's [`zero_state()`](https://www.tensorflow.org/api_docs/python/tf/contrib/rnn/MultiRNNCell#zero_state) function\n",
    "    - Apply the name \"initial_state\" to the initial state using [`tf.identity()`](https://www.tensorflow.org/api_docs/python/tf/identity)\n",
    "\n",
    "Return the cell and initial state in the following tuple `(Cell, InitialState)`"
   ]
  },
  {
   "cell_type": "code",
   "execution_count": 9,
   "metadata": {},
   "outputs": [
    {
     "name": "stdout",
     "output_type": "stream",
     "text": [
      "Tests Passed\n"
     ]
    }
   ],
   "source": [
    "def get_init_cell(batch_size, rnn_size):\n",
    "    \"\"\"\n",
    "    Create an RNN Cell and initialize it.\n",
    "    :param batch_size: Size of batches\n",
    "    :param rnn_size: Size of RNNs\n",
    "    :return: Tuple (cell, initialize state)\n",
    "    \"\"\"\n",
    "    num_of_layers = 2\n",
    "#     basic = tf.contrib.rnn.BasicLSTMCell(num_units=rnn_size)\n",
    "#     basic = tf.contrib.rnn.DropoutWrapper(basic, output_keep_prob=0.8)\n",
    "    cell = tf.contrib.rnn.MultiRNNCell([tf.contrib.rnn.BasicLSTMCell(rnn_size) for _ in range(num_of_layers)])\n",
    "    initial_state = tf.identity(cell.zero_state(batch_size, tf.float32), name='initial_state')\n",
    "    return cell, initial_state\n",
    "\n",
    "\n",
    "\"\"\"\n",
    "DON'T MODIFY ANYTHING IN THIS CELL THAT IS BELOW THIS LINE\n",
    "\"\"\"\n",
    "tests.test_get_init_cell(get_init_cell)"
   ]
  },
  {
   "cell_type": "markdown",
   "metadata": {},
   "source": [
    "### Word Embedding\n",
    "Apply embedding to `input_data` using TensorFlow.  Return the embedded sequence."
   ]
  },
  {
   "cell_type": "code",
   "execution_count": 10,
   "metadata": {},
   "outputs": [
    {
     "name": "stdout",
     "output_type": "stream",
     "text": [
      "Tests Passed\n"
     ]
    }
   ],
   "source": [
    "def get_embed(input_data, vocab_size, embed_dim):\n",
    "    \"\"\"\n",
    "    Create embedding for <input_data>.\n",
    "    :param input_data: TF placeholder for text input.\n",
    "    :param vocab_size: Number of words in vocabulary.\n",
    "    :param embed_dim: Number of embedding dimensions\n",
    "    :return: Embedded input.\n",
    "    \"\"\"\n",
    "    embedding = tf.Variable(tf.random_uniform((vocab_size, embed_dim),-1,1))\n",
    "    embed = tf.nn.embedding_lookup(embedding, input_data)\n",
    "    return embed\n",
    "\n",
    "\n",
    "\"\"\"\n",
    "DON'T MODIFY ANYTHING IN THIS CELL THAT IS BELOW THIS LINE\n",
    "\"\"\"\n",
    "tests.test_get_embed(get_embed)"
   ]
  },
  {
   "cell_type": "markdown",
   "metadata": {},
   "source": [
    "### Build RNN\n",
    "You created a RNN Cell in the `get_init_cell()` function.  Time to use the cell to create a RNN.\n",
    "- Build the RNN using the [`tf.nn.dynamic_rnn()`](https://www.tensorflow.org/api_docs/python/tf/nn/dynamic_rnn)\n",
    " - Apply the name \"final_state\" to the final state using [`tf.identity()`](https://www.tensorflow.org/api_docs/python/tf/identity)\n",
    "\n",
    "Return the outputs and final_state state in the following tuple `(Outputs, FinalState)` "
   ]
  },
  {
   "cell_type": "code",
   "execution_count": 11,
   "metadata": {},
   "outputs": [
    {
     "name": "stdout",
     "output_type": "stream",
     "text": [
      "Tests Passed\n"
     ]
    }
   ],
   "source": [
    "def build_rnn(cell, inputs):\n",
    "    \"\"\"\n",
    "    Create a RNN using a RNN Cell\n",
    "    :param cell: RNN Cell\n",
    "    :param inputs: Input text data\n",
    "    :return: Tuple (Outputs, Final State)\n",
    "    \"\"\"\n",
    "    output, final_state = tf.nn.dynamic_rnn(cell, inputs, dtype=tf.float32)\n",
    "    final_state = tf.identity(final_state, name='final_state')\n",
    "    return output, final_state\n",
    "\n",
    "\n",
    "\"\"\"\n",
    "DON'T MODIFY ANYTHING IN THIS CELL THAT IS BELOW THIS LINE\n",
    "\"\"\"\n",
    "tests.test_build_rnn(build_rnn)"
   ]
  },
  {
   "cell_type": "markdown",
   "metadata": {},
   "source": [
    "### Build the Neural Network\n",
    "Apply the functions you implemented above to:\n",
    "- Apply embedding to `input_data` using your `get_embed(input_data, vocab_size, embed_dim)` function.\n",
    "- Build RNN using `cell` and your `build_rnn(cell, inputs)` function.\n",
    "- Apply a fully connected layer with a linear activation and `vocab_size` as the number of outputs.\n",
    "\n",
    "Return the logits and final state in the following tuple (Logits, FinalState) "
   ]
  },
  {
   "cell_type": "code",
   "execution_count": 12,
   "metadata": {},
   "outputs": [
    {
     "name": "stdout",
     "output_type": "stream",
     "text": [
      "Tests Passed\n"
     ]
    }
   ],
   "source": [
    "def build_nn(cell, rnn_size, input_data, vocab_size, embed_dim):\n",
    "    \"\"\"\n",
    "    Build part of the neural network\n",
    "    :param cell: RNN cell\n",
    "    :param rnn_size: Size of rnns\n",
    "    :param input_data: Input data\n",
    "    :param vocab_size: Vocabulary size\n",
    "    :param embed_dim: Number of embedding dimensions\n",
    "    :return: Tuple (Logits, FinalState)\n",
    "    \"\"\"\n",
    "    embedding = get_embed(input_data, vocab_size, embed_dim)\n",
    "    output, final_state = build_rnn(cell, embedding)\n",
    "    fc = tf.contrib.layers.fully_connected(output, vocab_size, activation_fn=None)\n",
    "    return fc, final_state\n",
    "\n",
    "\n",
    "\"\"\"\n",
    "DON'T MODIFY ANYTHING IN THIS CELL THAT IS BELOW THIS LINE\n",
    "\"\"\"\n",
    "tests.test_build_nn(build_nn)"
   ]
  },
  {
   "cell_type": "markdown",
   "metadata": {},
   "source": [
    "### Batches\n",
    "Implement `get_batches` to create batches of input and targets using `int_text`.  The batches should be a Numpy array with the shape `(number of batches, 2, batch size, sequence length)`. Each batch contains two elements:\n",
    "- The first element is a single batch of **input** with the shape `[batch size, sequence length]`\n",
    "- The second element is a single batch of **targets** with the shape `[batch size, sequence length]`\n",
    "\n",
    "If you can't fill the last batch with enough data, drop the last batch.\n",
    "\n",
    "For exmple, `get_batches([1, 2, 3, 4, 5, 6, 7, 8, 9, 10, 11, 12, 13, 14, 15, 16, 17, 18, 19, 20], 3, 2)` would return a Numpy array of the following:\n",
    "```\n",
    "[\n",
    "  # First Batch\n",
    "  [\n",
    "    # Batch of Input\n",
    "    [[ 1  2], [ 7  8], [13 14]]\n",
    "    # Batch of targets\n",
    "    [[ 2  3], [ 8  9], [14 15]]\n",
    "  ]\n",
    "\n",
    "  # Second Batch\n",
    "  [\n",
    "    # Batch of Input\n",
    "    [[ 3  4], [ 9 10], [15 16]]\n",
    "    # Batch of targets\n",
    "    [[ 4  5], [10 11], [16 17]]\n",
    "  ]\n",
    "\n",
    "  # Third Batch\n",
    "  [\n",
    "    # Batch of Input\n",
    "    [[ 5  6], [11 12], [17 18]]\n",
    "    # Batch of targets\n",
    "    [[ 6  7], [12 13], [18  1]]\n",
    "  ]\n",
    "]\n",
    "```\n",
    "\n",
    "Notice that the last target value in the last batch is the first input value of the first batch. In this case, `1`. This is a common technique used when creating sequence batches, although it is rather unintuitive."
   ]
  },
  {
   "cell_type": "code",
   "execution_count": 13,
   "metadata": {},
   "outputs": [
    {
     "name": "stdout",
     "output_type": "stream",
     "text": [
      "Tests Passed\n"
     ]
    }
   ],
   "source": [
    "def get_batches(int_text, batch_size, seq_length):\n",
    "    \"\"\"\n",
    "    Return batches of input and target\n",
    "    :param int_text: Text with the words replaced by their ids\n",
    "    :param batch_size: The size of batch\n",
    "    :param seq_length: The length of sequence\n",
    "    :return: Batches as a Numpy array\n",
    "    \"\"\"\n",
    "    g_batches = len(int_text) // batch_size\n",
    "    n_batches = g_batches//seq_length\n",
    "    x, y = int_text[:g_batches*batch_size], int_text[:g_batches*batch_size]\n",
    "    result = np.zeros((n_batches,2,batch_size,seq_length), dtype=int)\n",
    "\n",
    "\n",
    "#     print(len(int_text))\n",
    "#     print(batch_size)\n",
    "#     print(n_batches)\n",
    "#     print (result.shape)\n",
    "    \n",
    "    \n",
    "    for i in range(0, n_batches):\n",
    "        for j in range(0, batch_size):\n",
    "            start = (i*seq_length)+(j*n_batches*seq_length)\n",
    "            end = start + seq_length\n",
    "            result[i,0,j,:seq_length] = np.array(int_text[start : end]) \n",
    "            result[i,1,j,:seq_length] = np.array(int_text[start+1:end+1])\n",
    "    \n",
    "    # sets the last element\n",
    "    result[-1,1,-1,-1] = int_text[0]\n",
    "    return result\n",
    "\n",
    "\n",
    "\"\"\"\n",
    "DON'T MODIFY ANYTHING IN THIS CELL THAT IS BELOW THIS LINE\n",
    "\"\"\"\n",
    "tests.test_get_batches(get_batches)"
   ]
  },
  {
   "cell_type": "markdown",
   "metadata": {},
   "source": [
    "## Neural Network Training\n",
    "### Hyperparameters\n",
    "Tune the following parameters:\n",
    "\n",
    "- Set `num_epochs` to the number of epochs.\n",
    "- Set `batch_size` to the batch size.\n",
    "- Set `rnn_size` to the size of the RNNs.\n",
    "- Set `embed_dim` to the size of the embedding.\n",
    "- Set `seq_length` to the length of sequence.\n",
    "- Set `learning_rate` to the learning rate.\n",
    "- Set `show_every_n_batches` to the number of batches the neural network should print progress."
   ]
  },
  {
   "cell_type": "code",
   "execution_count": 14,
   "metadata": {
    "collapsed": true
   },
   "outputs": [],
   "source": [
    "# Number of Epochs\n",
    "num_epochs = 100\n",
    "# Batch Size\n",
    "batch_size = 64\n",
    "# RNN Size\n",
    "rnn_size = 256\n",
    "# Embedding Dimension Size\n",
    "embed_dim = 128\n",
    "# Sequence Length\n",
    "seq_length = 32\n",
    "# Learning Rate\n",
    "learning_rate = 0.01\n",
    "# Show stats for every n number of batches\n",
    "show_every_n_batches = 10\n",
    "\n",
    "\"\"\"\n",
    "DON'T MODIFY ANYTHING IN THIS CELL THAT IS BELOW THIS LINE\n",
    "\"\"\"\n",
    "save_dir = './save'"
   ]
  },
  {
   "cell_type": "markdown",
   "metadata": {},
   "source": [
    "### Build the Graph\n",
    "Build the graph using the neural network you implemented."
   ]
  },
  {
   "cell_type": "code",
   "execution_count": 15,
   "metadata": {
    "collapsed": true
   },
   "outputs": [],
   "source": [
    "\"\"\"\n",
    "DON'T MODIFY ANYTHING IN THIS CELL\n",
    "\"\"\"\n",
    "from tensorflow.contrib import seq2seq\n",
    "\n",
    "train_graph = tf.Graph()\n",
    "with train_graph.as_default():\n",
    "    vocab_size = len(int_to_vocab)\n",
    "    input_text, targets, lr = get_inputs()\n",
    "    input_data_shape = tf.shape(input_text)\n",
    "    cell, initial_state = get_init_cell(input_data_shape[0], rnn_size)\n",
    "    logits, final_state = build_nn(cell, rnn_size, input_text, vocab_size, embed_dim)\n",
    "\n",
    "    # Probabilities for generating words\n",
    "    probs = tf.nn.softmax(logits, name='probs')\n",
    "\n",
    "    # Loss function\n",
    "    cost = seq2seq.sequence_loss(\n",
    "        logits,\n",
    "        targets,\n",
    "        tf.ones([input_data_shape[0], input_data_shape[1]]))\n",
    "\n",
    "    # Optimizer\n",
    "    optimizer = tf.train.AdamOptimizer(lr)\n",
    "\n",
    "    # Gradient Clipping\n",
    "    gradients = optimizer.compute_gradients(cost)\n",
    "    capped_gradients = [(tf.clip_by_value(grad, -1., 1.), var) for grad, var in gradients if grad is not None]\n",
    "    train_op = optimizer.apply_gradients(capped_gradients)"
   ]
  },
  {
   "cell_type": "markdown",
   "metadata": {},
   "source": [
    "## Train\n",
    "Train the neural network on the preprocessed data.  If you have a hard time getting a good loss, check the [forms](https://discussions.udacity.com/) to see if anyone is having the same problem."
   ]
  },
  {
   "cell_type": "code",
   "execution_count": 16,
   "metadata": {},
   "outputs": [
    {
     "name": "stdout",
     "output_type": "stream",
     "text": [
      "Epoch   0 Batch    0/33   train_loss = 8.822\n",
      "Epoch   0 Batch   10/33   train_loss = 6.999\n",
      "Epoch   0 Batch   20/33   train_loss = 7.046\n",
      "Epoch   0 Batch   30/33   train_loss = 6.677\n",
      "Epoch   1 Batch    7/33   train_loss = 6.230\n",
      "Epoch   1 Batch   17/33   train_loss = 6.147\n",
      "Epoch   1 Batch   27/33   train_loss = 6.317\n",
      "Epoch   2 Batch    4/33   train_loss = 6.338\n",
      "Epoch   2 Batch   14/33   train_loss = 6.261\n",
      "Epoch   2 Batch   24/33   train_loss = 6.207\n",
      "Epoch   3 Batch    1/33   train_loss = 6.131\n",
      "Epoch   3 Batch   11/33   train_loss = 6.252\n",
      "Epoch   3 Batch   21/33   train_loss = 6.106\n",
      "Epoch   3 Batch   31/33   train_loss = 6.135\n",
      "Epoch   4 Batch    8/33   train_loss = 6.048\n",
      "Epoch   4 Batch   18/33   train_loss = 5.680\n",
      "Epoch   4 Batch   28/33   train_loss = 5.838\n",
      "Epoch   5 Batch    5/33   train_loss = 5.794\n",
      "Epoch   5 Batch   15/33   train_loss = 5.659\n",
      "Epoch   5 Batch   25/33   train_loss = 5.433\n",
      "Epoch   6 Batch    2/33   train_loss = 5.336\n",
      "Epoch   6 Batch   12/33   train_loss = 5.229\n",
      "Epoch   6 Batch   22/33   train_loss = 5.087\n",
      "Epoch   6 Batch   32/33   train_loss = 5.211\n",
      "Epoch   7 Batch    9/33   train_loss = 4.926\n",
      "Epoch   7 Batch   19/33   train_loss = 4.956\n",
      "Epoch   7 Batch   29/33   train_loss = 4.761\n",
      "Epoch   8 Batch    6/33   train_loss = 4.601\n",
      "Epoch   8 Batch   16/33   train_loss = 4.629\n",
      "Epoch   8 Batch   26/33   train_loss = 4.635\n",
      "Epoch   9 Batch    3/33   train_loss = 4.449\n",
      "Epoch   9 Batch   13/33   train_loss = 4.576\n",
      "Epoch   9 Batch   23/33   train_loss = 4.477\n",
      "Epoch  10 Batch    0/33   train_loss = 4.154\n",
      "Epoch  10 Batch   10/33   train_loss = 4.435\n",
      "Epoch  10 Batch   20/33   train_loss = 4.326\n",
      "Epoch  10 Batch   30/33   train_loss = 4.258\n",
      "Epoch  11 Batch    7/33   train_loss = 4.148\n",
      "Epoch  11 Batch   17/33   train_loss = 4.111\n",
      "Epoch  11 Batch   27/33   train_loss = 4.136\n",
      "Epoch  12 Batch    4/33   train_loss = 3.972\n",
      "Epoch  12 Batch   14/33   train_loss = 4.024\n",
      "Epoch  12 Batch   24/33   train_loss = 3.972\n",
      "Epoch  13 Batch    1/33   train_loss = 3.869\n",
      "Epoch  13 Batch   11/33   train_loss = 3.759\n",
      "Epoch  13 Batch   21/33   train_loss = 3.776\n",
      "Epoch  13 Batch   31/33   train_loss = 3.814\n",
      "Epoch  14 Batch    8/33   train_loss = 3.711\n",
      "Epoch  14 Batch   18/33   train_loss = 3.500\n",
      "Epoch  14 Batch   28/33   train_loss = 3.631\n",
      "Epoch  15 Batch    5/33   train_loss = 3.477\n",
      "Epoch  15 Batch   15/33   train_loss = 3.464\n",
      "Epoch  15 Batch   25/33   train_loss = 3.524\n",
      "Epoch  16 Batch    2/33   train_loss = 3.451\n",
      "Epoch  16 Batch   12/33   train_loss = 3.384\n",
      "Epoch  16 Batch   22/33   train_loss = 3.265\n",
      "Epoch  16 Batch   32/33   train_loss = 3.294\n",
      "Epoch  17 Batch    9/33   train_loss = 3.124\n",
      "Epoch  17 Batch   19/33   train_loss = 3.177\n",
      "Epoch  17 Batch   29/33   train_loss = 3.146\n",
      "Epoch  18 Batch    6/33   train_loss = 3.145\n",
      "Epoch  18 Batch   16/33   train_loss = 2.954\n",
      "Epoch  18 Batch   26/33   train_loss = 2.982\n",
      "Epoch  19 Batch    3/33   train_loss = 2.962\n",
      "Epoch  19 Batch   13/33   train_loss = 2.934\n",
      "Epoch  19 Batch   23/33   train_loss = 2.907\n",
      "Epoch  20 Batch    0/33   train_loss = 2.736\n",
      "Epoch  20 Batch   10/33   train_loss = 2.873\n",
      "Epoch  20 Batch   20/33   train_loss = 2.645\n",
      "Epoch  20 Batch   30/33   train_loss = 2.776\n",
      "Epoch  21 Batch    7/33   train_loss = 2.542\n",
      "Epoch  21 Batch   17/33   train_loss = 2.526\n",
      "Epoch  21 Batch   27/33   train_loss = 2.470\n",
      "Epoch  22 Batch    4/33   train_loss = 2.495\n",
      "Epoch  22 Batch   14/33   train_loss = 2.497\n",
      "Epoch  22 Batch   24/33   train_loss = 2.388\n",
      "Epoch  23 Batch    1/33   train_loss = 2.440\n",
      "Epoch  23 Batch   11/33   train_loss = 2.217\n",
      "Epoch  23 Batch   21/33   train_loss = 2.395\n",
      "Epoch  23 Batch   31/33   train_loss = 2.397\n",
      "Epoch  24 Batch    8/33   train_loss = 2.276\n",
      "Epoch  24 Batch   18/33   train_loss = 2.172\n",
      "Epoch  24 Batch   28/33   train_loss = 2.240\n",
      "Epoch  25 Batch    5/33   train_loss = 2.025\n",
      "Epoch  25 Batch   15/33   train_loss = 2.137\n",
      "Epoch  25 Batch   25/33   train_loss = 2.205\n",
      "Epoch  26 Batch    2/33   train_loss = 2.086\n",
      "Epoch  26 Batch   12/33   train_loss = 2.180\n",
      "Epoch  26 Batch   22/33   train_loss = 2.003\n",
      "Epoch  26 Batch   32/33   train_loss = 1.950\n",
      "Epoch  27 Batch    9/33   train_loss = 1.797\n",
      "Epoch  27 Batch   19/33   train_loss = 1.847\n",
      "Epoch  27 Batch   29/33   train_loss = 1.943\n",
      "Epoch  28 Batch    6/33   train_loss = 1.954\n",
      "Epoch  28 Batch   16/33   train_loss = 1.845\n",
      "Epoch  28 Batch   26/33   train_loss = 1.824\n",
      "Epoch  29 Batch    3/33   train_loss = 1.757\n",
      "Epoch  29 Batch   13/33   train_loss = 1.761\n",
      "Epoch  29 Batch   23/33   train_loss = 1.679\n",
      "Epoch  30 Batch    0/33   train_loss = 1.643\n",
      "Epoch  30 Batch   10/33   train_loss = 1.701\n",
      "Epoch  30 Batch   20/33   train_loss = 1.542\n",
      "Epoch  30 Batch   30/33   train_loss = 1.638\n",
      "Epoch  31 Batch    7/33   train_loss = 1.450\n",
      "Epoch  31 Batch   17/33   train_loss = 1.512\n",
      "Epoch  31 Batch   27/33   train_loss = 1.476\n",
      "Epoch  32 Batch    4/33   train_loss = 1.486\n",
      "Epoch  32 Batch   14/33   train_loss = 1.439\n",
      "Epoch  32 Batch   24/33   train_loss = 1.394\n",
      "Epoch  33 Batch    1/33   train_loss = 1.466\n",
      "Epoch  33 Batch   11/33   train_loss = 1.173\n",
      "Epoch  33 Batch   21/33   train_loss = 1.473\n",
      "Epoch  33 Batch   31/33   train_loss = 1.491\n",
      "Epoch  34 Batch    8/33   train_loss = 1.263\n",
      "Epoch  34 Batch   18/33   train_loss = 1.266\n",
      "Epoch  34 Batch   28/33   train_loss = 1.304\n",
      "Epoch  35 Batch    5/33   train_loss = 1.150\n",
      "Epoch  35 Batch   15/33   train_loss = 1.189\n",
      "Epoch  35 Batch   25/33   train_loss = 1.340\n",
      "Epoch  36 Batch    2/33   train_loss = 1.216\n",
      "Epoch  36 Batch   12/33   train_loss = 1.260\n",
      "Epoch  36 Batch   22/33   train_loss = 1.185\n",
      "Epoch  36 Batch   32/33   train_loss = 1.084\n",
      "Epoch  37 Batch    9/33   train_loss = 1.013\n",
      "Epoch  37 Batch   19/33   train_loss = 1.013\n",
      "Epoch  37 Batch   29/33   train_loss = 1.114\n",
      "Epoch  38 Batch    6/33   train_loss = 1.131\n",
      "Epoch  38 Batch   16/33   train_loss = 1.053\n",
      "Epoch  38 Batch   26/33   train_loss = 0.986\n",
      "Epoch  39 Batch    3/33   train_loss = 1.000\n",
      "Epoch  39 Batch   13/33   train_loss = 0.984\n",
      "Epoch  39 Batch   23/33   train_loss = 0.923\n",
      "Epoch  40 Batch    0/33   train_loss = 0.954\n",
      "Epoch  40 Batch   10/33   train_loss = 0.911\n",
      "Epoch  40 Batch   20/33   train_loss = 0.805\n",
      "Epoch  40 Batch   30/33   train_loss = 0.904\n",
      "Epoch  41 Batch    7/33   train_loss = 0.788\n",
      "Epoch  41 Batch   17/33   train_loss = 0.817\n",
      "Epoch  41 Batch   27/33   train_loss = 0.793\n",
      "Epoch  42 Batch    4/33   train_loss = 0.870\n",
      "Epoch  42 Batch   14/33   train_loss = 0.758\n",
      "Epoch  42 Batch   24/33   train_loss = 0.719\n",
      "Epoch  43 Batch    1/33   train_loss = 0.862\n",
      "Epoch  43 Batch   11/33   train_loss = 0.591\n",
      "Epoch  43 Batch   21/33   train_loss = 0.777\n",
      "Epoch  43 Batch   31/33   train_loss = 0.833\n",
      "Epoch  44 Batch    8/33   train_loss = 0.711\n",
      "Epoch  44 Batch   18/33   train_loss = 0.717\n",
      "Epoch  44 Batch   28/33   train_loss = 0.707\n",
      "Epoch  45 Batch    5/33   train_loss = 0.627\n",
      "Epoch  45 Batch   15/33   train_loss = 0.683\n",
      "Epoch  45 Batch   25/33   train_loss = 0.761\n",
      "Epoch  46 Batch    2/33   train_loss = 0.702\n",
      "Epoch  46 Batch   12/33   train_loss = 0.759\n",
      "Epoch  46 Batch   22/33   train_loss = 0.660\n",
      "Epoch  46 Batch   32/33   train_loss = 0.627\n",
      "Epoch  47 Batch    9/33   train_loss = 0.588\n",
      "Epoch  47 Batch   19/33   train_loss = 0.608\n",
      "Epoch  47 Batch   29/33   train_loss = 0.651\n",
      "Epoch  48 Batch    6/33   train_loss = 0.698\n",
      "Epoch  48 Batch   16/33   train_loss = 0.615\n",
      "Epoch  48 Batch   26/33   train_loss = 0.582\n",
      "Epoch  49 Batch    3/33   train_loss = 0.576\n",
      "Epoch  49 Batch   13/33   train_loss = 0.600\n",
      "Epoch  49 Batch   23/33   train_loss = 0.589\n",
      "Epoch  50 Batch    0/33   train_loss = 0.544\n",
      "Epoch  50 Batch   10/33   train_loss = 0.573\n",
      "Epoch  50 Batch   20/33   train_loss = 0.467\n",
      "Epoch  50 Batch   30/33   train_loss = 0.543\n",
      "Epoch  51 Batch    7/33   train_loss = 0.476\n",
      "Epoch  51 Batch   17/33   train_loss = 0.533\n",
      "Epoch  51 Batch   27/33   train_loss = 0.490\n",
      "Epoch  52 Batch    4/33   train_loss = 0.525\n",
      "Epoch  52 Batch   14/33   train_loss = 0.468\n",
      "Epoch  52 Batch   24/33   train_loss = 0.455\n",
      "Epoch  53 Batch    1/33   train_loss = 0.503\n",
      "Epoch  53 Batch   11/33   train_loss = 0.331\n",
      "Epoch  53 Batch   21/33   train_loss = 0.490\n",
      "Epoch  53 Batch   31/33   train_loss = 0.510\n",
      "Epoch  54 Batch    8/33   train_loss = 0.424\n",
      "Epoch  54 Batch   18/33   train_loss = 0.452\n",
      "Epoch  54 Batch   28/33   train_loss = 0.445\n",
      "Epoch  55 Batch    5/33   train_loss = 0.376\n"
     ]
    },
    {
     "name": "stdout",
     "output_type": "stream",
     "text": [
      "Epoch  55 Batch   15/33   train_loss = 0.401\n",
      "Epoch  55 Batch   25/33   train_loss = 0.437\n",
      "Epoch  56 Batch    2/33   train_loss = 0.381\n",
      "Epoch  56 Batch   12/33   train_loss = 0.427\n",
      "Epoch  56 Batch   22/33   train_loss = 0.383\n",
      "Epoch  56 Batch   32/33   train_loss = 0.373\n",
      "Epoch  57 Batch    9/33   train_loss = 0.325\n",
      "Epoch  57 Batch   19/33   train_loss = 0.346\n",
      "Epoch  57 Batch   29/33   train_loss = 0.354\n",
      "Epoch  58 Batch    6/33   train_loss = 0.366\n",
      "Epoch  58 Batch   16/33   train_loss = 0.337\n",
      "Epoch  58 Batch   26/33   train_loss = 0.326\n",
      "Epoch  59 Batch    3/33   train_loss = 0.309\n",
      "Epoch  59 Batch   13/33   train_loss = 0.314\n",
      "Epoch  59 Batch   23/33   train_loss = 0.330\n",
      "Epoch  60 Batch    0/33   train_loss = 0.289\n",
      "Epoch  60 Batch   10/33   train_loss = 0.292\n",
      "Epoch  60 Batch   20/33   train_loss = 0.269\n",
      "Epoch  60 Batch   30/33   train_loss = 0.289\n",
      "Epoch  61 Batch    7/33   train_loss = 0.251\n",
      "Epoch  61 Batch   17/33   train_loss = 0.276\n",
      "Epoch  61 Batch   27/33   train_loss = 0.279\n",
      "Epoch  62 Batch    4/33   train_loss = 0.288\n",
      "Epoch  62 Batch   14/33   train_loss = 0.246\n",
      "Epoch  62 Batch   24/33   train_loss = 0.235\n",
      "Epoch  63 Batch    1/33   train_loss = 0.259\n",
      "Epoch  63 Batch   11/33   train_loss = 0.177\n",
      "Epoch  63 Batch   21/33   train_loss = 0.251\n",
      "Epoch  63 Batch   31/33   train_loss = 0.282\n",
      "Epoch  64 Batch    8/33   train_loss = 0.222\n",
      "Epoch  64 Batch   18/33   train_loss = 0.228\n",
      "Epoch  64 Batch   28/33   train_loss = 0.226\n",
      "Epoch  65 Batch    5/33   train_loss = 0.199\n",
      "Epoch  65 Batch   15/33   train_loss = 0.193\n",
      "Epoch  65 Batch   25/33   train_loss = 0.230\n",
      "Epoch  66 Batch    2/33   train_loss = 0.198\n",
      "Epoch  66 Batch   12/33   train_loss = 0.226\n",
      "Epoch  66 Batch   22/33   train_loss = 0.191\n",
      "Epoch  66 Batch   32/33   train_loss = 0.204\n",
      "Epoch  67 Batch    9/33   train_loss = 0.168\n",
      "Epoch  67 Batch   19/33   train_loss = 0.175\n",
      "Epoch  67 Batch   29/33   train_loss = 0.185\n",
      "Epoch  68 Batch    6/33   train_loss = 0.175\n",
      "Epoch  68 Batch   16/33   train_loss = 0.162\n",
      "Epoch  68 Batch   26/33   train_loss = 0.153\n",
      "Epoch  69 Batch    3/33   train_loss = 0.153\n",
      "Epoch  69 Batch   13/33   train_loss = 0.144\n",
      "Epoch  69 Batch   23/33   train_loss = 0.152\n",
      "Epoch  70 Batch    0/33   train_loss = 0.154\n",
      "Epoch  70 Batch   10/33   train_loss = 0.150\n",
      "Epoch  70 Batch   20/33   train_loss = 0.139\n",
      "Epoch  70 Batch   30/33   train_loss = 0.137\n",
      "Epoch  71 Batch    7/33   train_loss = 0.129\n",
      "Epoch  71 Batch   17/33   train_loss = 0.136\n",
      "Epoch  71 Batch   27/33   train_loss = 0.139\n",
      "Epoch  72 Batch    4/33   train_loss = 0.143\n",
      "Epoch  72 Batch   14/33   train_loss = 0.119\n",
      "Epoch  72 Batch   24/33   train_loss = 0.119\n",
      "Epoch  73 Batch    1/33   train_loss = 0.143\n",
      "Epoch  73 Batch   11/33   train_loss = 0.091\n",
      "Epoch  73 Batch   21/33   train_loss = 0.136\n",
      "Epoch  73 Batch   31/33   train_loss = 0.151\n",
      "Epoch  74 Batch    8/33   train_loss = 0.127\n",
      "Epoch  74 Batch   18/33   train_loss = 0.128\n",
      "Epoch  74 Batch   28/33   train_loss = 0.122\n",
      "Epoch  75 Batch    5/33   train_loss = 0.114\n",
      "Epoch  75 Batch   15/33   train_loss = 0.111\n",
      "Epoch  75 Batch   25/33   train_loss = 0.120\n",
      "Epoch  76 Batch    2/33   train_loss = 0.117\n",
      "Epoch  76 Batch   12/33   train_loss = 0.141\n",
      "Epoch  76 Batch   22/33   train_loss = 0.111\n",
      "Epoch  76 Batch   32/33   train_loss = 0.124\n",
      "Epoch  77 Batch    9/33   train_loss = 0.105\n",
      "Epoch  77 Batch   19/33   train_loss = 0.113\n",
      "Epoch  77 Batch   29/33   train_loss = 0.113\n",
      "Epoch  78 Batch    6/33   train_loss = 0.110\n",
      "Epoch  78 Batch   16/33   train_loss = 0.101\n",
      "Epoch  78 Batch   26/33   train_loss = 0.098\n",
      "Epoch  79 Batch    3/33   train_loss = 0.094\n",
      "Epoch  79 Batch   13/33   train_loss = 0.097\n",
      "Epoch  79 Batch   23/33   train_loss = 0.098\n",
      "Epoch  80 Batch    0/33   train_loss = 0.104\n",
      "Epoch  80 Batch   10/33   train_loss = 0.102\n",
      "Epoch  80 Batch   20/33   train_loss = 0.104\n",
      "Epoch  80 Batch   30/33   train_loss = 0.099\n",
      "Epoch  81 Batch    7/33   train_loss = 0.093\n",
      "Epoch  81 Batch   17/33   train_loss = 0.100\n",
      "Epoch  81 Batch   27/33   train_loss = 0.104\n",
      "Epoch  82 Batch    4/33   train_loss = 0.108\n",
      "Epoch  82 Batch   14/33   train_loss = 0.088\n",
      "Epoch  82 Batch   24/33   train_loss = 0.091\n",
      "Epoch  83 Batch    1/33   train_loss = 0.114\n",
      "Epoch  83 Batch   11/33   train_loss = 0.076\n",
      "Epoch  83 Batch   21/33   train_loss = 0.108\n",
      "Epoch  83 Batch   31/33   train_loss = 0.112\n",
      "Epoch  84 Batch    8/33   train_loss = 0.105\n",
      "Epoch  84 Batch   18/33   train_loss = 0.109\n",
      "Epoch  84 Batch   28/33   train_loss = 0.104\n",
      "Epoch  85 Batch    5/33   train_loss = 0.092\n",
      "Epoch  85 Batch   15/33   train_loss = 0.095\n",
      "Epoch  85 Batch   25/33   train_loss = 0.097\n",
      "Epoch  86 Batch    2/33   train_loss = 0.103\n",
      "Epoch  86 Batch   12/33   train_loss = 0.121\n",
      "Epoch  86 Batch   22/33   train_loss = 0.097\n",
      "Epoch  86 Batch   32/33   train_loss = 0.109\n",
      "Epoch  87 Batch    9/33   train_loss = 0.092\n",
      "Epoch  87 Batch   19/33   train_loss = 0.103\n",
      "Epoch  87 Batch   29/33   train_loss = 0.100\n",
      "Epoch  88 Batch    6/33   train_loss = 0.099\n",
      "Epoch  88 Batch   16/33   train_loss = 0.093\n",
      "Epoch  88 Batch   26/33   train_loss = 0.089\n",
      "Epoch  89 Batch    3/33   train_loss = 0.085\n",
      "Epoch  89 Batch   13/33   train_loss = 0.090\n",
      "Epoch  89 Batch   23/33   train_loss = 0.088\n",
      "Epoch  90 Batch    0/33   train_loss = 0.096\n",
      "Epoch  90 Batch   10/33   train_loss = 0.096\n",
      "Epoch  90 Batch   20/33   train_loss = 0.098\n",
      "Epoch  90 Batch   30/33   train_loss = 0.092\n",
      "Epoch  91 Batch    7/33   train_loss = 0.085\n",
      "Epoch  91 Batch   17/33   train_loss = 0.090\n",
      "Epoch  91 Batch   27/33   train_loss = 0.097\n",
      "Epoch  92 Batch    4/33   train_loss = 0.100\n",
      "Epoch  92 Batch   14/33   train_loss = 0.083\n",
      "Epoch  92 Batch   24/33   train_loss = 0.084\n",
      "Epoch  93 Batch    1/33   train_loss = 0.107\n",
      "Epoch  93 Batch   11/33   train_loss = 0.073\n",
      "Epoch  93 Batch   21/33   train_loss = 0.102\n",
      "Epoch  93 Batch   31/33   train_loss = 0.103\n",
      "Epoch  94 Batch    8/33   train_loss = 0.099\n",
      "Epoch  94 Batch   18/33   train_loss = 0.103\n",
      "Epoch  94 Batch   28/33   train_loss = 0.099\n",
      "Epoch  95 Batch    5/33   train_loss = 0.088\n",
      "Epoch  95 Batch   15/33   train_loss = 0.090\n",
      "Epoch  95 Batch   25/33   train_loss = 0.092\n",
      "Epoch  96 Batch    2/33   train_loss = 0.099\n",
      "Epoch  96 Batch   12/33   train_loss = 0.114\n",
      "Epoch  96 Batch   22/33   train_loss = 0.095\n",
      "Epoch  96 Batch   32/33   train_loss = 0.104\n",
      "Epoch  97 Batch    9/33   train_loss = 0.088\n",
      "Epoch  97 Batch   19/33   train_loss = 0.099\n",
      "Epoch  97 Batch   29/33   train_loss = 0.096\n",
      "Epoch  98 Batch    6/33   train_loss = 0.095\n",
      "Epoch  98 Batch   16/33   train_loss = 0.090\n",
      "Epoch  98 Batch   26/33   train_loss = 0.086\n",
      "Epoch  99 Batch    3/33   train_loss = 0.082\n",
      "Epoch  99 Batch   13/33   train_loss = 0.088\n",
      "Epoch  99 Batch   23/33   train_loss = 0.085\n",
      "Model Trained and Saved\n"
     ]
    }
   ],
   "source": [
    "\"\"\"\n",
    "DON'T MODIFY ANYTHING IN THIS CELL\n",
    "\"\"\"\n",
    "batches = get_batches(int_text, batch_size, seq_length)\n",
    "\n",
    "with tf.Session(graph=train_graph) as sess:\n",
    "    sess.run(tf.global_variables_initializer())\n",
    "\n",
    "    for epoch_i in range(num_epochs):\n",
    "        state = sess.run(initial_state, {input_text: batches[0][0]})\n",
    "\n",
    "        for batch_i, (x, y) in enumerate(batches):\n",
    "            feed = {\n",
    "                input_text: x,\n",
    "                targets: y,\n",
    "                initial_state: state,\n",
    "                lr: learning_rate}\n",
    "            train_loss, state, _ = sess.run([cost, final_state, train_op], feed)\n",
    "\n",
    "            # Show every <show_every_n_batches> batches\n",
    "            if (epoch_i * len(batches) + batch_i) % show_every_n_batches == 0:\n",
    "                print('Epoch {:>3} Batch {:>4}/{}   train_loss = {:.3f}'.format(\n",
    "                    epoch_i,\n",
    "                    batch_i,\n",
    "                    len(batches),\n",
    "                    train_loss))\n",
    "\n",
    "    # Save Model\n",
    "    saver = tf.train.Saver()\n",
    "    saver.save(sess, save_dir)\n",
    "    print('Model Trained and Saved')"
   ]
  },
  {
   "cell_type": "markdown",
   "metadata": {},
   "source": [
    "## Save Parameters\n",
    "Save `seq_length` and `save_dir` for generating a new TV script."
   ]
  },
  {
   "cell_type": "code",
   "execution_count": 17,
   "metadata": {
    "collapsed": true
   },
   "outputs": [],
   "source": [
    "\"\"\"\n",
    "DON'T MODIFY ANYTHING IN THIS CELL\n",
    "\"\"\"\n",
    "# Save parameters for checkpoint\n",
    "helper.save_params((seq_length, save_dir))"
   ]
  },
  {
   "cell_type": "markdown",
   "metadata": {},
   "source": [
    "# Checkpoint"
   ]
  },
  {
   "cell_type": "code",
   "execution_count": 18,
   "metadata": {
    "collapsed": true
   },
   "outputs": [],
   "source": [
    "\"\"\"\n",
    "DON'T MODIFY ANYTHING IN THIS CELL\n",
    "\"\"\"\n",
    "import tensorflow as tf\n",
    "import numpy as np\n",
    "import helper\n",
    "import problem_unittests as tests\n",
    "\n",
    "_, vocab_to_int, int_to_vocab, token_dict = helper.load_preprocess()\n",
    "seq_length, load_dir = helper.load_params()"
   ]
  },
  {
   "cell_type": "markdown",
   "metadata": {},
   "source": [
    "## Implement Generate Functions\n",
    "### Get Tensors\n",
    "Get tensors from `loaded_graph` using the function [`get_tensor_by_name()`](https://www.tensorflow.org/api_docs/python/tf/Graph#get_tensor_by_name).  Get the tensors using the following names:\n",
    "- \"input:0\"\n",
    "- \"initial_state:0\"\n",
    "- \"final_state:0\"\n",
    "- \"probs:0\"\n",
    "\n",
    "Return the tensors in the following tuple `(InputTensor, InitialStateTensor, FinalStateTensor, ProbsTensor)` "
   ]
  },
  {
   "cell_type": "code",
   "execution_count": 19,
   "metadata": {},
   "outputs": [
    {
     "name": "stdout",
     "output_type": "stream",
     "text": [
      "Tests Passed\n"
     ]
    }
   ],
   "source": [
    "def get_tensors(loaded_graph):\n",
    "    \"\"\"\n",
    "    Get input, initial state, final state, and probabilities tensor from <loaded_graph>\n",
    "    :param loaded_graph: TensorFlow graph loaded from file\n",
    "    :return: Tuple (InputTensor, InitialStateTensor, FinalStateTensor, ProbsTensor)\n",
    "    \"\"\"\n",
    "    inp = loaded_graph.get_tensor_by_name('input:0') \n",
    "    initial = loaded_graph.get_tensor_by_name('initial_state:0')\n",
    "    final = loaded_graph.get_tensor_by_name('final_state:0')\n",
    "    probs = loaded_graph.get_tensor_by_name('probs:0')\n",
    "    return inp, initial, final, probs\n",
    "\n",
    "\n",
    "\"\"\"\n",
    "DON'T MODIFY ANYTHING IN THIS CELL THAT IS BELOW THIS LINE\n",
    "\"\"\"\n",
    "tests.test_get_tensors(get_tensors)"
   ]
  },
  {
   "cell_type": "markdown",
   "metadata": {},
   "source": [
    "### Choose Word\n",
    "Implement the `pick_word()` function to select the next word using `probabilities`."
   ]
  },
  {
   "cell_type": "code",
   "execution_count": 20,
   "metadata": {},
   "outputs": [
    {
     "name": "stdout",
     "output_type": "stream",
     "text": [
      "Tests Passed\n"
     ]
    }
   ],
   "source": [
    "def pick_word(probabilities, int_to_vocab):\n",
    "    \"\"\"\n",
    "    Pick the next word in the generated text\n",
    "    :param probabilities: Probabilites of the next word\n",
    "    :param int_to_vocab: Dictionary of word ids as the keys and words as the values\n",
    "    :return: String of the predicted word\n",
    "    \"\"\"\n",
    "#     int_to_vocab[np.argmax(probabilities)]\n",
    "    index = np.random.choice(len(int_to_vocab), p=probabilities) \n",
    "    return int_to_vocab[index]\n",
    "\n",
    "\n",
    "\n",
    "\"\"\"\n",
    "DON'T MODIFY ANYTHING IN THIS CELL THAT IS BELOW THIS LINE\n",
    "\"\"\"\n",
    "tests.test_pick_word(pick_word)"
   ]
  },
  {
   "cell_type": "markdown",
   "metadata": {},
   "source": [
    "## Generate TV Script\n",
    "This will generate the TV script for you.  Set `gen_length` to the length of TV script you want to generate."
   ]
  },
  {
   "cell_type": "code",
   "execution_count": 23,
   "metadata": {},
   "outputs": [
    {
     "name": "stdout",
     "output_type": "stream",
     "text": [
      "INFO:tensorflow:Restoring parameters from ./save\n",
      "moe_szyslak: dang, i'm missing the secret ingredient! uh, lemme squeeze some more out of the\" secret ingredient bag\".\n",
      "moe_szyslak: uh-oh, looks like i gotta wing someone either let me make you all little beautiful.\n",
      "chief_wiggum:(sadly) i got one--(selling) these charity best bar people.\n",
      "lisa_simpson: look i a big bucks it's real drunk.\n",
      "barney_gumble: so you know, then i had a place soon... and dinner this place paints 'em. uh-oh. then your guy has been through money in the bathroom. i was gonna do something boneheaded home and the world would uh, why then i'll read her.\n",
      "moe_szyslak: uh, when i can't get us to myself.(whiny noise)...\n",
      "\n",
      "\n",
      "moe_szyslak:(sarcastic laugh) sorry guys, you're kinda upset about that.\n",
      "moe_szyslak: could you where you, marjorie.\n",
      "\n",
      "\n",
      "moe_szyslak: well, i don't want to get man a day.(sobs) super thoughts...\n",
      "health_inspector: please! let me check\n"
     ]
    }
   ],
   "source": [
    "gen_length = 200\n",
    "# homer_simpson, moe_szyslak, or Barney_Gumble\n",
    "prime_word = 'moe_szyslak'\n",
    "\n",
    "\"\"\"\n",
    "DON'T MODIFY ANYTHING IN THIS CELL THAT IS BELOW THIS LINE\n",
    "\"\"\"\n",
    "loaded_graph = tf.Graph()\n",
    "with tf.Session(graph=loaded_graph) as sess:\n",
    "    # Load saved model\n",
    "    loader = tf.train.import_meta_graph(load_dir + '.meta')\n",
    "    loader.restore(sess, load_dir)\n",
    "\n",
    "    # Get Tensors from loaded model\n",
    "    input_text, initial_state, final_state, probs = get_tensors(loaded_graph)\n",
    "\n",
    "    # Sentences generation setup\n",
    "    gen_sentences = [prime_word + ':']\n",
    "    prev_state = sess.run(initial_state, {input_text: np.array([[1]])})\n",
    "\n",
    "    # Generate sentences\n",
    "    for n in range(gen_length):\n",
    "        # Dynamic Input\n",
    "        dyn_input = [[vocab_to_int[word] for word in gen_sentences[-seq_length:]]]\n",
    "        dyn_seq_length = len(dyn_input[0])\n",
    "\n",
    "        # Get Prediction\n",
    "        probabilities, prev_state = sess.run(\n",
    "            [probs, final_state],\n",
    "            {input_text: dyn_input, initial_state: prev_state})\n",
    "        \n",
    "        pred_word = pick_word(probabilities[dyn_seq_length-1], int_to_vocab)\n",
    "\n",
    "        gen_sentences.append(pred_word)\n",
    "    \n",
    "    # Remove tokens\n",
    "    tv_script = ' '.join(gen_sentences)\n",
    "    for key, token in token_dict.items():\n",
    "        ending = ' ' if key in ['\\n', '(', '\"'] else ''\n",
    "        tv_script = tv_script.replace(' ' + token.lower(), key)\n",
    "    tv_script = tv_script.replace('\\n ', '\\n')\n",
    "    tv_script = tv_script.replace('( ', '(')\n",
    "        \n",
    "    print(tv_script)"
   ]
  },
  {
   "cell_type": "markdown",
   "metadata": {},
   "source": [
    "# The TV Script is Nonsensical\n",
    "It's ok if the TV script doesn't make any sense.  We trained on less than a megabyte of text.  In order to get good results, you'll have to use a smaller vocabulary or get more data.  Luckly there's more data!  As we mentioned in the begging of this project, this is a subset of [another dataset](https://www.kaggle.com/wcukierski/the-simpsons-by-the-data).  We didn't have you train on all the data, because that would take too long.  However, you are free to train your neural network on all the data.  After you complete the project, of course.\n",
    "# Submitting This Project\n",
    "When submitting this project, make sure to run all the cells before saving the notebook. Save the notebook file as \"dlnd_tv_script_generation.ipynb\" and save it as a HTML file under \"File\" -> \"Download as\". Include the \"helper.py\" and \"problem_unittests.py\" files in your submission."
   ]
  }
 ],
 "metadata": {
  "kernelspec": {
   "display_name": "Python 3",
   "language": "python",
   "name": "python3"
  },
  "language_info": {
   "codemirror_mode": {
    "name": "ipython",
    "version": 3
   },
   "file_extension": ".py",
   "mimetype": "text/x-python",
   "name": "python",
   "nbconvert_exporter": "python",
   "pygments_lexer": "ipython3",
   "version": "3.5.3"
  },
  "widgets": {
   "state": {},
   "version": "1.1.2"
  }
 },
 "nbformat": 4,
 "nbformat_minor": 1
}
